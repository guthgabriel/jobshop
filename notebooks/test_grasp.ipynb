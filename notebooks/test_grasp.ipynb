{
 "cells": [
  {
   "cell_type": "code",
   "execution_count": 1,
   "metadata": {},
   "outputs": [],
   "source": [
    "import numpy as np\n",
    "import pyomo.environ as pyo\n",
    "import gurobipy\n",
    "from jobshop.params import JobShopRandomParams\n",
    "from jobshop.mip.disjunctive import DisjModel\n",
    "from jobshop.heurstic.grasp.simple import grasp\n",
    "from jobshop.heurstic.grasp.pr import grasp_pr, grasp_pr_alt"
   ]
  },
  {
   "attachments": {},
   "cell_type": "markdown",
   "metadata": {},
   "source": [
    "Path-relinking is being included. Please take a look at [this section](#under-development-path-relinking)"
   ]
  },
  {
   "cell_type": "code",
   "execution_count": 2,
   "metadata": {},
   "outputs": [],
   "source": [
    "params = JobShopRandomParams(10, 10, t_span=(0, 20), seed=12)"
   ]
  },
  {
   "attachments": {},
   "cell_type": "markdown",
   "metadata": {},
   "source": [
    "Para a instancia 8x10 (0, 20) seed=12 124 é ótimo\n",
    "Para a instancia 10x12 (0, 20) seed=12 166 é ótimo\n",
    "Para a instancia 15x15 (0, 20) seed=12 226 parece ótimo"
   ]
  },
  {
   "cell_type": "code",
   "execution_count": 3,
   "metadata": {},
   "outputs": [],
   "source": [
    "model = DisjModel(params)\n",
    "solver = pyo.SolverFactory(\"gurobi\", solver_io=\"python\")\n",
    "#solver.options[\"cuts\"] = \"on\"\n",
    "#solver.options[\"sec\"] = 10"
   ]
  },
  {
   "cell_type": "code",
   "execution_count": 4,
   "metadata": {},
   "outputs": [
    {
     "name": "stdout",
     "output_type": "stream",
     "text": [
      "Gurobi Optimizer version 10.0.1 build v10.0.1rc0 (win64)\n",
      "\n",
      "CPU model: 11th Gen Intel(R) Core(TM) i5-11400H @ 2.70GHz, instruction set [SSE2|AVX|AVX2|AVX512]\n",
      "Thread count: 6 physical cores, 12 logical processors, using up to 12 threads\n",
      "\n",
      "Optimize a model with 2000 rows, 1101 columns and 4800 nonzeros\n",
      "Model fingerprint: 0xc4fc6d32\n",
      "Variable types: 101 continuous, 1000 integer (1000 binary)\n",
      "Coefficient statistics:\n",
      "  Matrix range     [1e+00, 9e+02]\n",
      "  Objective range  [1e+00, 1e+00]\n",
      "  Bounds range     [1e+00, 1e+00]\n",
      "  RHS range        [1e+00, 9e+02]\n",
      "Presolve removed 1000 rows and 550 columns\n",
      "Presolve time: 0.00s\n",
      "Presolved: 1000 rows, 551 columns, 2900 nonzeros\n",
      "Variable types: 101 continuous, 450 integer (450 binary)\n",
      "Found heuristic solution: objective 656.0000000\n",
      "\n",
      "Root relaxation: objective 1.200000e+02, 244 iterations, 0.00 seconds (0.00 work units)\n",
      "\n",
      "    Nodes    |    Current Node    |     Objective Bounds      |     Work\n",
      " Expl Unexpl |  Obj  Depth IntInf | Incumbent    BestBd   Gap | It/Node Time\n",
      "\n",
      "     0     0  120.00000    0   49  656.00000  120.00000  81.7%     -    0s\n",
      "     0     0  122.00000    0   48  656.00000  122.00000  81.4%     -    0s\n",
      "H    0     0                     212.0000000  122.00000  42.5%     -    0s\n",
      "H    0     0                     208.0000000  122.00000  41.3%     -    0s\n",
      "H    0     0                     206.0000000  122.00000  40.8%     -    0s\n",
      "H    0     0                     203.0000000  122.00000  39.9%     -    0s\n",
      "     0     0  122.00000    0   84  203.00000  122.00000  39.9%     -    0s\n",
      "H    0     0                     202.0000000  122.00000  39.6%     -    0s\n",
      "H    0     0                     199.0000000  122.22581  38.6%     -    0s\n",
      "     0     0  122.22581    0   80  199.00000  122.22581  38.6%     -    0s\n",
      "     0     0  125.00000    0   66  199.00000  125.00000  37.2%     -    0s\n",
      "H    0     0                     195.0000000  125.00000  35.9%     -    0s\n",
      "H    0     0                     194.0000000  125.00000  35.6%     -    0s\n",
      "     0     0  129.00000    0   70  194.00000  129.00000  33.5%     -    0s\n",
      "     0     0  129.00000    0   52  194.00000  129.00000  33.5%     -    0s\n",
      "     0     0  130.00000    0   54  194.00000  130.00000  33.0%     -    0s\n",
      "H    0     0                     193.0000000  130.00000  32.6%     -    0s\n",
      "     0     0  130.00000    0   58  193.00000  130.00000  32.6%     -    0s\n",
      "     0     0  130.00000    0   50  193.00000  130.00000  32.6%     -    0s\n",
      "     0     0  130.00000    0   53  193.00000  130.00000  32.6%     -    0s\n",
      "H    0     0                     181.0000000  130.00000  28.2%     -    0s\n",
      "     0     0  130.00000    0   57  181.00000  130.00000  28.2%     -    0s\n",
      "     0     0  130.00000    0   55  181.00000  130.00000  28.2%     -    0s\n",
      "     0     2  130.00000    0   55  181.00000  130.00000  28.2%     -    0s\n",
      "H   37    44                     180.0000000  130.00000  27.8%  52.5    0s\n",
      "H   45    56                     178.0000000  130.00000  27.0%  44.4    0s\n",
      "H   80    84                     176.0000000  130.00000  26.1%  31.8    0s\n",
      "H  137   147                     172.0000000  130.00000  24.4%  23.2    0s\n",
      "H  147   147                     171.0000000  130.00000  24.0%  22.9    0s\n",
      "*  464   363              34     170.0000000  131.00000  22.9%  17.2    0s\n",
      "*  513   383              45     168.0000000  131.00000  22.0%  16.2    0s\n",
      "H  673   383                     166.0000000  133.89201  19.3%  16.1    0s\n",
      "H  740   348                     158.0000000  135.00000  14.6%  15.9    0s\n",
      "* 1152   390              39     157.0000000  138.00000  12.1%  15.7    0s\n",
      "* 1300   351              18     154.0000000  139.00000  9.74%  15.8    0s\n",
      "* 2073   293              19     153.0000000  141.00000  7.84%  15.5    0s\n",
      "\n",
      "Cutting planes:\n",
      "  Gomory: 29\n",
      "  Cover: 34\n",
      "  Implied bound: 108\n",
      "  Clique: 1\n",
      "  MIR: 204\n",
      "  Inf proof: 51\n",
      "  RLT: 111\n",
      "  Relax-and-lift: 23\n",
      "\n",
      "Explored 3181 nodes (48258 simplex iterations) in 0.98 seconds (0.75 work units)\n",
      "Thread count was 12 (of 12 available processors)\n",
      "\n",
      "Solution count 10: 153 154 157 ... 176\n",
      "\n",
      "Optimal solution found (tolerance 1.00e-04)\n",
      "Best objective 1.530000000000e+02, best bound 1.530000000000e+02, gap 0.0000%\n"
     ]
    },
    {
     "data": {
      "text/plain": [
       "{'Problem': [{'Name': 'unknown', 'Lower bound': 152.99999999999977, 'Upper bound': 152.99999999999977, 'Number of objectives': 1, 'Number of constraints': 2000, 'Number of variables': 1101, 'Number of binary variables': 1000, 'Number of integer variables': 1000, 'Number of continuous variables': -899, 'Number of nonzeros': 4800, 'Sense': 1, 'Number of solutions': 10}], 'Solver': [{'Name': 'Gurobi 10.01', 'Status': 'ok', 'Wallclock time': 0.9900000095367432, 'Termination condition': 'optimal', 'Termination message': 'Model was solved to optimality (subject to tolerances), and an optimal solution is available.'}], 'Solution': [OrderedDict([('number of solutions', 0), ('number of solutions displayed', 0)])]}"
      ]
     },
     "execution_count": 4,
     "metadata": {},
     "output_type": "execute_result"
    }
   ],
   "source": [
    "solver.solve(model, tee = True)"
   ]
  },
  {
   "cell_type": "code",
   "execution_count": null,
   "metadata": {},
   "outputs": [],
   "source": [
    "model.plot()"
   ]
  },
  {
   "cell_type": "code",
   "execution_count": null,
   "metadata": {},
   "outputs": [],
   "source": [
    "print(model.obj())"
   ]
  },
  {
   "cell_type": "code",
   "execution_count": 5,
   "metadata": {},
   "outputs": [
    {
     "name": "stdout",
     "output_type": "stream",
     "text": [
      "New best solution 206\n",
      "New best solution 188\n",
      "New best solution 179\n",
      "New best solution 172\n",
      "New best solution 170\n",
      "New best solution 164\n",
      "New best solution 158\n"
     ]
    }
   ],
   "source": [
    "sol_grasp = grasp(params, maxiter=10000, alpha=(0.3, 0.9), seed=12, verbose=True)"
   ]
  },
  {
   "cell_type": "code",
   "execution_count": null,
   "metadata": {},
   "outputs": [],
   "source": [
    "sol_grasp.C"
   ]
  },
  {
   "cell_type": "code",
   "execution_count": null,
   "metadata": {},
   "outputs": [],
   "source": [
    "sol_grasp.plot()"
   ]
  },
  {
   "cell_type": "code",
   "execution_count": 7,
   "metadata": {},
   "outputs": [
    {
     "name": "stdout",
     "output_type": "stream",
     "text": [
      "First solution: 206\n",
      "New best solution: 188\n",
      "Updated Pool: [188. 206.]\n",
      "New quality solution: 205\n",
      "Updated Pool: [188. 205. 206.]\n",
      "New quality solution: 199\n",
      "Updated Pool: [188. 199. 205. 206.]\n",
      "New quality solution: 196\n",
      "Updated Pool: [188. 196. 199. 205. 206.]\n",
      "New best solution: 174\n",
      "Updated Pool: [174. 188. 196. 199. 205.]\n",
      "New best solution: 169\n",
      "Updated Pool: [169. 174. 188. 196. 199.]\n",
      "New quality solution: 185\n",
      "Updated Pool: [169. 174. 185. 188. 196.]\n",
      "New quality solution: 172\n",
      "Updated Pool: [169. 172. 174. 185. 188.]\n",
      "New best solution: 168\n",
      "Updated Pool: [168. 169. 172. 174. 185.]\n",
      "New quality solution: 183\n",
      "Updated Pool: [168. 169. 172. 174. 183.]\n",
      "New best solution: 166\n",
      "Updated Pool: [166. 168. 169. 172. 174.]\n",
      "New best solution: 164\n",
      "Updated Pool: [164. 166. 168. 169. 172.]\n"
     ]
    }
   ],
   "source": [
    "sol_grasp_pr = grasp_pr(params, maxiter=100, init_iter=0.5, alpha=(0.3, 0.9), maxpool=5, seed=12, verbose=True)"
   ]
  },
  {
   "cell_type": "code",
   "execution_count": null,
   "metadata": {},
   "outputs": [],
   "source": [
    "sol_grasp_pr[0].C"
   ]
  },
  {
   "cell_type": "code",
   "execution_count": null,
   "metadata": {},
   "outputs": [],
   "source": [
    "sol_grasp_pr[0].plot()"
   ]
  },
  {
   "cell_type": "code",
   "execution_count": null,
   "metadata": {},
   "outputs": [],
   "source": []
  }
 ],
 "metadata": {
  "kernelspec": {
   "display_name": "venv",
   "language": "python",
   "name": "python3"
  },
  "language_info": {
   "codemirror_mode": {
    "name": "ipython",
    "version": 3
   },
   "file_extension": ".py",
   "mimetype": "text/x-python",
   "name": "python",
   "nbconvert_exporter": "python",
   "pygments_lexer": "ipython3",
   "version": "3.9.7"
  },
  "orig_nbformat": 4,
  "vscode": {
   "interpreter": {
    "hash": "808ac9b4f2f1c0197cdd4971f37be6db1c7da694fa2b8e1599a644313f419c86"
   }
  }
 },
 "nbformat": 4,
 "nbformat_minor": 2
}
